{
 "cells": [
  {
   "cell_type": "code",
   "execution_count": 65,
   "id": "ff1bd47e",
   "metadata": {},
   "outputs": [],
   "source": [
    "import numpy as np\n",
    "import matplotlib.pyplot as plt\n",
    "import  keras\n",
    "import os\n",
    "from keras.models import Sequential , Model\n",
    "from keras.layers import Conv2D , MaxPooling2D , Dense , Flatten , Input    #conv2d for image , conv3d for videos\n",
    "import cv2\n",
    "from sklearn.model_selection import train_test_split "
   ]
  },
  {
   "cell_type": "code",
   "execution_count": 35,
   "id": "869fdc9d",
   "metadata": {},
   "outputs": [],
   "source": [
    "dirname = r'C:\\Users\\Alo\\Desktop\\ProjectML2\\BrainTumor\\Training'         # https://www.kaggle.com/datasets/masoudnickparvar/brain-tumor-mri-dataset?resource=download\n",
    "categories = [ 'no_tumor' , 'tumor']\n",
    "data_set = []\n",
    "for category in categories:\n",
    "    label = categories.index(category)\n",
    "    folder = os.path.join(dirname,category)\n",
    "    for image in os.listdir(folder):\n",
    "        img_name = os.path.join(folder,image)\n",
    "        img_nparray = cv2.imread(img_name)\n",
    "        img_nparray = cv2.resize(img_nparray, (200,200))\n",
    "        data_set.append([img_nparray,label])"
   ]
  },
  {
   "cell_type": "code",
   "execution_count": 36,
   "id": "56c5f19e",
   "metadata": {},
   "outputs": [],
   "source": [
    "x = []\n",
    "y = []\n",
    "for data in data_set:\n",
    "    x.append(data[0])\n",
    "    y.append(data[1])"
   ]
  },
  {
   "cell_type": "code",
   "execution_count": 37,
   "id": "6b25a300",
   "metadata": {},
   "outputs": [],
   "source": [
    "x = np.array(x)\n",
    "y = np.array(y)"
   ]
  },
  {
   "cell_type": "code",
   "execution_count": 38,
   "id": "55cdbaef",
   "metadata": {},
   "outputs": [],
   "source": [
    "x = x/255.0"
   ]
  },
  {
   "cell_type": "code",
   "execution_count": 39,
   "id": "1b0fc4f0",
   "metadata": {},
   "outputs": [],
   "source": [
    "x_train , x_test , y_train , y_test = train_test_split(x,y,test_size = 0.3 , shuffle = True)"
   ]
  },
  {
   "cell_type": "code",
   "execution_count": 40,
   "id": "b233b272",
   "metadata": {},
   "outputs": [],
   "source": [
    "# model = Sequential([\n",
    "#     Conv2D(filters = 64,kernel_size = (3,3),activation = 'relu'),    # 64 layers (feature detector) , feature detector 3x3 grid and after that avtivation with relu\n",
    "#     MaxPooling2D((2,2)),     #filter compate in 2x2 blocks  \n",
    "#     Conv2D(64,(3,3),activation = 'relu'),    # 64 layers (feature detector) , feature detector \n",
    "#     MaxPooling2D((2,2)) ,\n",
    "#     Conv2D(64,(3,3),activation = 'relu'),    # 64 layers (feature detector) , feature detector \n",
    "#     MaxPooling2D((2,2)) , \n",
    "#     Flatten(),               # convert to 1d array  ( to flatten out the image )\n",
    "#     Dense(32,activation = 'relu'),\n",
    "#     Dense(1,activation = 'sigmoid')\n",
    "# ])"
   ]
  },
  {
   "cell_type": "code",
   "execution_count": 41,
   "id": "63823003",
   "metadata": {},
   "outputs": [],
   "source": [
    "# model.compile(optimizer = 'adam' , loss = 'binary_crossentropy', metrics = ['accuracy'])"
   ]
  },
  {
   "cell_type": "markdown",
   "id": "fbcce232",
   "metadata": {},
   "source": []
  },
  {
   "cell_type": "code",
   "execution_count": 42,
   "id": "cdee2184",
   "metadata": {},
   "outputs": [],
   "source": [
    "# model.fit(x_train,y_train,epochs = 20,batch_size = 10)"
   ]
  },
  {
   "cell_type": "code",
   "execution_count": 43,
   "id": "0f2a6d51",
   "metadata": {},
   "outputs": [],
   "source": [
    "model = keras.models.load_model('C:/Users/Alo/Desktop/ProjectML2/model_bt4.keras')"
   ]
  },
  {
   "cell_type": "code",
   "execution_count": 44,
   "id": "572bcc96",
   "metadata": {},
   "outputs": [
    {
     "ename": "ValueError",
     "evalue": "in user code:\n\n    File \"C:\\Users\\Alo\\anaconda3\\lib\\site-packages\\keras\\engine\\training.py\", line 1727, in test_function  *\n        return step_function(self, iterator)\n    File \"C:\\Users\\Alo\\anaconda3\\lib\\site-packages\\keras\\engine\\training.py\", line 1713, in step_function  **\n        outputs = model.distribute_strategy.run(run_step, args=(data,))\n    File \"C:\\Users\\Alo\\anaconda3\\lib\\site-packages\\keras\\engine\\training.py\", line 1701, in run_step  **\n        outputs = model.test_step(data)\n    File \"C:\\Users\\Alo\\anaconda3\\lib\\site-packages\\keras\\engine\\training.py\", line 1665, in test_step\n        y_pred = self(x, training=False)\n    File \"C:\\Users\\Alo\\anaconda3\\lib\\site-packages\\keras\\utils\\traceback_utils.py\", line 70, in error_handler\n        raise e.with_traceback(filtered_tb) from None\n    File \"C:\\Users\\Alo\\anaconda3\\lib\\site-packages\\keras\\engine\\input_spec.py\", line 295, in assert_input_compatibility\n        raise ValueError(\n\n    ValueError: Input 0 of layer \"sequential\" is incompatible with the layer: expected shape=(None, 200, 200, 3), found shape=(None, 224, 224, 3)\n",
     "output_type": "error",
     "traceback": [
      "\u001b[1;31m---------------------------------------------------------------------------\u001b[0m",
      "\u001b[1;31mValueError\u001b[0m                                Traceback (most recent call last)",
      "\u001b[1;32m~\\AppData\\Local\\Temp\\ipykernel_27824\\132869415.py\u001b[0m in \u001b[0;36m<module>\u001b[1;34m\u001b[0m\n\u001b[1;32m----> 1\u001b[1;33m \u001b[0mmodel\u001b[0m\u001b[1;33m.\u001b[0m\u001b[0mevaluate\u001b[0m\u001b[1;33m(\u001b[0m\u001b[0mx_test\u001b[0m\u001b[1;33m,\u001b[0m\u001b[0my_test\u001b[0m\u001b[1;33m)\u001b[0m\u001b[1;33m\u001b[0m\u001b[1;33m\u001b[0m\u001b[0m\n\u001b[0m",
      "\u001b[1;32m~\\anaconda3\\lib\\site-packages\\keras\\utils\\traceback_utils.py\u001b[0m in \u001b[0;36merror_handler\u001b[1;34m(*args, **kwargs)\u001b[0m\n\u001b[0;32m     68\u001b[0m             \u001b[1;31m# To get the full stack trace, call:\u001b[0m\u001b[1;33m\u001b[0m\u001b[1;33m\u001b[0m\u001b[0m\n\u001b[0;32m     69\u001b[0m             \u001b[1;31m# `tf.debugging.disable_traceback_filtering()`\u001b[0m\u001b[1;33m\u001b[0m\u001b[1;33m\u001b[0m\u001b[0m\n\u001b[1;32m---> 70\u001b[1;33m             \u001b[1;32mraise\u001b[0m \u001b[0me\u001b[0m\u001b[1;33m.\u001b[0m\u001b[0mwith_traceback\u001b[0m\u001b[1;33m(\u001b[0m\u001b[0mfiltered_tb\u001b[0m\u001b[1;33m)\u001b[0m \u001b[1;32mfrom\u001b[0m \u001b[1;32mNone\u001b[0m\u001b[1;33m\u001b[0m\u001b[1;33m\u001b[0m\u001b[0m\n\u001b[0m\u001b[0;32m     71\u001b[0m         \u001b[1;32mfinally\u001b[0m\u001b[1;33m:\u001b[0m\u001b[1;33m\u001b[0m\u001b[1;33m\u001b[0m\u001b[0m\n\u001b[0;32m     72\u001b[0m             \u001b[1;32mdel\u001b[0m \u001b[0mfiltered_tb\u001b[0m\u001b[1;33m\u001b[0m\u001b[1;33m\u001b[0m\u001b[0m\n",
      "\u001b[1;32m~\\anaconda3\\lib\\site-packages\\keras\\engine\\training.py\u001b[0m in \u001b[0;36mtf__test_function\u001b[1;34m(iterator)\u001b[0m\n\u001b[0;32m     13\u001b[0m                 \u001b[1;32mtry\u001b[0m\u001b[1;33m:\u001b[0m\u001b[1;33m\u001b[0m\u001b[1;33m\u001b[0m\u001b[0m\n\u001b[0;32m     14\u001b[0m                     \u001b[0mdo_return\u001b[0m \u001b[1;33m=\u001b[0m \u001b[1;32mTrue\u001b[0m\u001b[1;33m\u001b[0m\u001b[1;33m\u001b[0m\u001b[0m\n\u001b[1;32m---> 15\u001b[1;33m                     \u001b[0mretval_\u001b[0m \u001b[1;33m=\u001b[0m \u001b[0mag__\u001b[0m\u001b[1;33m.\u001b[0m\u001b[0mconverted_call\u001b[0m\u001b[1;33m(\u001b[0m\u001b[0mag__\u001b[0m\u001b[1;33m.\u001b[0m\u001b[0mld\u001b[0m\u001b[1;33m(\u001b[0m\u001b[0mstep_function\u001b[0m\u001b[1;33m)\u001b[0m\u001b[1;33m,\u001b[0m \u001b[1;33m(\u001b[0m\u001b[0mag__\u001b[0m\u001b[1;33m.\u001b[0m\u001b[0mld\u001b[0m\u001b[1;33m(\u001b[0m\u001b[0mself\u001b[0m\u001b[1;33m)\u001b[0m\u001b[1;33m,\u001b[0m \u001b[0mag__\u001b[0m\u001b[1;33m.\u001b[0m\u001b[0mld\u001b[0m\u001b[1;33m(\u001b[0m\u001b[0miterator\u001b[0m\u001b[1;33m)\u001b[0m\u001b[1;33m)\u001b[0m\u001b[1;33m,\u001b[0m \u001b[1;32mNone\u001b[0m\u001b[1;33m,\u001b[0m \u001b[0mfscope\u001b[0m\u001b[1;33m)\u001b[0m\u001b[1;33m\u001b[0m\u001b[1;33m\u001b[0m\u001b[0m\n\u001b[0m\u001b[0;32m     16\u001b[0m                 \u001b[1;32mexcept\u001b[0m\u001b[1;33m:\u001b[0m\u001b[1;33m\u001b[0m\u001b[1;33m\u001b[0m\u001b[0m\n\u001b[0;32m     17\u001b[0m                     \u001b[0mdo_return\u001b[0m \u001b[1;33m=\u001b[0m \u001b[1;32mFalse\u001b[0m\u001b[1;33m\u001b[0m\u001b[1;33m\u001b[0m\u001b[0m\n",
      "\u001b[1;31mValueError\u001b[0m: in user code:\n\n    File \"C:\\Users\\Alo\\anaconda3\\lib\\site-packages\\keras\\engine\\training.py\", line 1727, in test_function  *\n        return step_function(self, iterator)\n    File \"C:\\Users\\Alo\\anaconda3\\lib\\site-packages\\keras\\engine\\training.py\", line 1713, in step_function  **\n        outputs = model.distribute_strategy.run(run_step, args=(data,))\n    File \"C:\\Users\\Alo\\anaconda3\\lib\\site-packages\\keras\\engine\\training.py\", line 1701, in run_step  **\n        outputs = model.test_step(data)\n    File \"C:\\Users\\Alo\\anaconda3\\lib\\site-packages\\keras\\engine\\training.py\", line 1665, in test_step\n        y_pred = self(x, training=False)\n    File \"C:\\Users\\Alo\\anaconda3\\lib\\site-packages\\keras\\utils\\traceback_utils.py\", line 70, in error_handler\n        raise e.with_traceback(filtered_tb) from None\n    File \"C:\\Users\\Alo\\anaconda3\\lib\\site-packages\\keras\\engine\\input_spec.py\", line 295, in assert_input_compatibility\n        raise ValueError(\n\n    ValueError: Input 0 of layer \"sequential\" is incompatible with the layer: expected shape=(None, 200, 200, 3), found shape=(None, 224, 224, 3)\n"
     ]
    }
   ],
   "source": [
    "model.evaluate(x_test,y_test)"
   ]
  },
  {
   "cell_type": "code",
   "execution_count": null,
   "id": "5406955f",
   "metadata": {},
   "outputs": [],
   "source": [
    "import random \n",
    "idx = random.randint(0,len(x_test))\n",
    "plt.imshow(x_test[idx ])\n",
    "plt.show()\n",
    "y_pred = model.predict(x_test[idx,:].reshape(1,200,200,3))\n",
    "if y_pred > 0.5:\n",
    "    y_pred = 'tumor'\n",
    "else:\n",
    "    y_pred = 'No tumor'\n",
    "print(y_pred)"
   ]
  },
  {
   "cell_type": "code",
   "execution_count": 13,
   "id": "fe66658a",
   "metadata": {},
   "outputs": [
    {
     "data": {
      "text/plain": [
       "1"
      ]
     },
     "execution_count": 13,
     "metadata": {},
     "output_type": "execute_result"
    }
   ],
   "source": [
    "y_test[idx]"
   ]
  },
  {
   "cell_type": "code",
   "execution_count": 14,
   "id": "a5b23aad",
   "metadata": {},
   "outputs": [],
   "source": [
    "# model.save('C:/Users/Alo/Desktop/ProjectML2/model_bt4.keras')"
   ]
  },
  {
   "cell_type": "code",
   "execution_count": null,
   "id": "ad851682",
   "metadata": {},
   "outputs": [],
   "source": []
  },
  {
   "cell_type": "code",
   "execution_count": null,
   "id": "36bf69bc",
   "metadata": {},
   "outputs": [],
   "source": []
  },
  {
   "cell_type": "code",
   "execution_count": null,
   "id": "df71f3aa",
   "metadata": {},
   "outputs": [],
   "source": []
  },
  {
   "cell_type": "code",
   "execution_count": null,
   "id": "c6c7f4fb",
   "metadata": {},
   "outputs": [],
   "source": []
  },
  {
   "cell_type": "code",
   "execution_count": null,
   "id": "bae2f2ff",
   "metadata": {},
   "outputs": [],
   "source": []
  },
  {
   "cell_type": "code",
   "execution_count": null,
   "id": "84cb4820",
   "metadata": {},
   "outputs": [],
   "source": []
  },
  {
   "cell_type": "code",
   "execution_count": 15,
   "id": "ed7399c5",
   "metadata": {},
   "outputs": [],
   "source": [
    "data_set_alzheimers = []\n",
    "dir_name2 = r'C:\\Users\\Alo\\Desktop\\ProjectML2\\az\\train'\n",
    "categories2 = ['no_alz' , 'alz']"
   ]
  },
  {
   "cell_type": "code",
   "execution_count": 16,
   "id": "7031e12a",
   "metadata": {},
   "outputs": [],
   "source": [
    "for category in categories2:\n",
    "    fold = os.path.join(dir_name2,category)\n",
    "    label = categories2.index(category)\n",
    "    for image in os.listdir(fold):\n",
    "        img_n = os.path.join(fold,image)\n",
    "        img_nparray2 = cv2.imread(img_n)\n",
    "        img_nparray2 = cv2.resize(img_nparray2 , (300,300))\n",
    "        data_set_alzheimers.append([img_nparray2,label])        "
   ]
  },
  {
   "cell_type": "code",
   "execution_count": 17,
   "id": "c9ff0013",
   "metadata": {},
   "outputs": [],
   "source": [
    "x_al = []\n",
    "y_al = []\n",
    "for data in data_set_alzheimers:\n",
    "    x_al.append(data[0])\n",
    "    y_al.append(data[1])"
   ]
  },
  {
   "cell_type": "code",
   "execution_count": 18,
   "id": "b83793d6",
   "metadata": {},
   "outputs": [],
   "source": [
    "x_al = np.array(x_al)\n",
    "y_al = np.array(y_al)"
   ]
  },
  {
   "cell_type": "code",
   "execution_count": 19,
   "id": "86e08250",
   "metadata": {},
   "outputs": [],
   "source": [
    "x_al = x_al/255.0"
   ]
  },
  {
   "cell_type": "code",
   "execution_count": 20,
   "id": "c42a8284",
   "metadata": {},
   "outputs": [],
   "source": [
    "x_train_al , x_test_al , y_train_al , y_test_al = train_test_split(x_al,y_al,test_size = 0.3 , shuffle = True)"
   ]
  },
  {
   "cell_type": "code",
   "execution_count": null,
   "id": "dd6ac8b7",
   "metadata": {},
   "outputs": [],
   "source": []
  },
  {
   "cell_type": "code",
   "execution_count": 21,
   "id": "68b50d45",
   "metadata": {},
   "outputs": [],
   "source": [
    "# model2 = Sequential([\n",
    "#     Conv2D(64,(3,3),activation = 'relu'),\n",
    "#     MaxPooling2D((2,2)),\n",
    "#     Conv2D(64,(3,3),activation = 'relu'),\n",
    "#     MaxPooling2D((2,2)),\n",
    "#     Conv2D(64,(3,3),activation = 'relu'),\n",
    "#     MaxPooling2D((2,2)),\n",
    "#     Flatten(),\n",
    "#     Dense(32,activation ='relu'),\n",
    "#     Dense(1,activation = 'sigmoid')\n",
    "# ])"
   ]
  },
  {
   "cell_type": "code",
   "execution_count": 22,
   "id": "5b7089b6",
   "metadata": {},
   "outputs": [],
   "source": [
    "# model2.compile(optimizer = 'adam' , loss = 'binary_crossentropy', metrics = ['accuracy'])"
   ]
  },
  {
   "cell_type": "code",
   "execution_count": 23,
   "id": "faf5daaf",
   "metadata": {
    "scrolled": true
   },
   "outputs": [],
   "source": [
    "# model2.fit(x_train_al,y_train_al,epochs = 20,batch_size = 10)"
   ]
  },
  {
   "cell_type": "code",
   "execution_count": 24,
   "id": "bb690809",
   "metadata": {},
   "outputs": [],
   "source": [
    "model2 = keras.models.load_model('C:/Users/Alo/Desktop/ProjectML2/model_al3.keras')"
   ]
  },
  {
   "cell_type": "code",
   "execution_count": 25,
   "id": "4aa08ec2",
   "metadata": {},
   "outputs": [
    {
     "name": "stdout",
     "output_type": "stream",
     "text": [
      "16/16 [==============================] - 22s 938ms/step - loss: 0.0144 - accuracy: 0.9959\n"
     ]
    },
    {
     "data": {
      "text/plain": [
       "[0.014387485571205616, 0.9958847761154175]"
      ]
     },
     "execution_count": 25,
     "metadata": {},
     "output_type": "execute_result"
    }
   ],
   "source": [
    "model2.evaluate(x_test_al,y_test_al)"
   ]
  },
  {
   "cell_type": "code",
   "execution_count": 26,
   "id": "292018a4",
   "metadata": {},
   "outputs": [],
   "source": [
    "# model2.save('C:/Users/Alo/Desktop/ProjectML2/model_al3.keras')"
   ]
  },
  {
   "cell_type": "code",
   "execution_count": 27,
   "id": "ea5f90de",
   "metadata": {},
   "outputs": [
    {
     "data": {
      "image/png": "[encoded data removed]",
      "text/plain": [
       "<Figure size 640x480 with 1 Axes>"
      ]
     },
     "metadata": {},
     "output_type": "display_data"
    },
    {
     "name": "stdout",
     "output_type": "stream",
     "text": [
      "1/1 [==============================] - 0s 364ms/step\n",
      "Alzheimer\n"
     ]
    }
   ],
   "source": [
    "\n",
    "idx2 = random.randint(0,len(x_test_al))\n",
    "plt.imshow(x_test_al[idx2])\n",
    "plt.show()\n",
    "y_pred = model2.predict(x_test_al[idx2,:].reshape(1,300,300,3))\n",
    "if y_pred > 0.5:\n",
    "    y_pred = 'Alzheimer'\n",
    "else:\n",
    "    y_pred = 'No Alzheimer\\'s'\n",
    "print(y_pred)"
   ]
  },
  {
   "cell_type": "code",
   "execution_count": 28,
   "id": "9249f64e",
   "metadata": {},
   "outputs": [
    {
     "data": {
      "text/plain": [
       "1"
      ]
     },
     "execution_count": 28,
     "metadata": {},
     "output_type": "execute_result"
    }
   ],
   "source": [
    "y_test_al[idx2]"
   ]
  },
  {
   "cell_type": "code",
   "execution_count": null,
   "id": "3730ff01",
   "metadata": {},
   "outputs": [],
   "source": []
  },
  {
   "cell_type": "code",
   "execution_count": 29,
   "id": "025f087d",
   "metadata": {},
   "outputs": [],
   "source": [
    "# from sklearn import svm\n",
    "# from sklearn.model_selection import GridSearchCV\n",
    "# x_train_inp = []\n",
    "# for i in range(len(x_train)):\n",
    "#     x_train_inp.append(np.reshape(x_train[i],(1,-1)));\n",
    "# x_train_inp = np.array(x_train_inp);\n",
    "# x_train_inp = np.reshape(x_train_inp,(x_train_inp.shape[0],-1))\n",
    "# x_test_inp = []\n",
    "# for i in range(len(x_test)):\n",
    "#     x_test_inp.append(np.reshape(x_test[i],(1,-1)));\n",
    "# x_test_inp = np.array(x_test_inp);\n",
    "# x_test_inp = np.reshape(x_test_inp,(x_test_inp.shape[0],-1))\n",
    "# x_train_inp.shape\n",
    "# param_grid={'C':[0.1,1,10,100],'gamma':[0.0001,0.001,0.1,1],'kernel':['rbf','poly']}\n",
    "# svc=svm.SVC(probability=True)\n",
    "# model_svm=GridSearchCV(svc,param_grid)\n",
    "# model_svm.fit(x_train_inp,y_train)\n",
    "# model_svm.evaluate(x_test_inp,y_test)"
   ]
  },
  {
   "cell_type": "code",
   "execution_count": 71,
   "id": "ee585c88",
   "metadata": {},
   "outputs": [],
   "source": [
    "from keras.applications.vgg16 import VGG16 , preprocess_input\n",
    "from glob import glob\n",
    "from keras.preprocessing.image import ImageDataGenerator\n",
    "\n",
    "\n"
   ]
  },
  {
   "cell_type": "code",
   "execution_count": 45,
   "id": "d8739464",
   "metadata": {},
   "outputs": [],
   "source": [
    "image_size = [224,224]"
   ]
  },
  {
   "cell_type": "code",
   "execution_count": 47,
   "id": "153a8fc2",
   "metadata": {},
   "outputs": [
    {
     "name": "stdout",
     "output_type": "stream",
     "text": [
      "Downloading data from https://storage.googleapis.com/tensorflow/keras-applications/vgg16/vgg16_weights_tf_dim_ordering_tf_kernels_notop.h5\n",
      "58889256/58889256 [==============================] - 6s 0us/step\n"
     ]
    }
   ],
   "source": [
    "vgg = VGG16(input_shape = image_size + [3] , weights = 'imagenet' , include_top = False)"
   ]
  },
  {
   "cell_type": "code",
   "execution_count": 48,
   "id": "931fe4aa",
   "metadata": {},
   "outputs": [],
   "source": [
    "for layer in vgg.layers:\n",
    "    layer.trainable = False"
   ]
  },
  {
   "cell_type": "code",
   "execution_count": 58,
   "id": "ffffe31c",
   "metadata": {},
   "outputs": [
    {
     "data": {
      "text/plain": [
       "['C:/Users/Alo/Desktop/ProjectML2/BrainTumor/Training\\\\no_tumor',\n",
       " 'C:/Users/Alo/Desktop/ProjectML2/BrainTumor/Training\\\\tumor']"
      ]
     },
     "execution_count": 58,
     "metadata": {},
     "output_type": "execute_result"
    }
   ],
   "source": [
    "folders = glob('C:/Users/Alo/Desktop/ProjectML2/BrainTumor/Training/*')\n",
    "folders"
   ]
  },
  {
   "cell_type": "code",
   "execution_count": 68,
   "id": "455b568e",
   "metadata": {},
   "outputs": [],
   "source": [
    "x = Flatten()(vgg.output)\n",
    "predictions = Dense(len(folders),activation = 'softmax')(x)\n",
    "modelVgg = Model(inputs = vgg.input , outputs = predictions )"
   ]
  },
  {
   "cell_type": "code",
   "execution_count": 69,
   "id": "3fc5fac5",
   "metadata": {},
   "outputs": [
    {
     "name": "stdout",
     "output_type": "stream",
     "text": [
      "Model: \"model_1\"\n",
      "_________________________________________________________________\n",
      " Layer (type)                Output Shape              Param #   \n",
      "=================================================================\n",
      " input_1 (InputLayer)        [(None, 224, 224, 3)]     0         \n",
      "                                                                 \n",
      " block1_conv1 (Conv2D)       (None, 224, 224, 64)      1792      \n",
      "                                                                 \n",
      " block1_conv2 (Conv2D)       (None, 224, 224, 64)      36928     \n",
      "                                                                 \n",
      " block1_pool (MaxPooling2D)  (None, 112, 112, 64)      0         \n",
      "                                                                 \n",
      " block2_conv1 (Conv2D)       (None, 112, 112, 128)     73856     \n",
      "                                                                 \n",
      " block2_conv2 (Conv2D)       (None, 112, 112, 128)     147584    \n",
      "                                                                 \n",
      " block2_pool (MaxPooling2D)  (None, 56, 56, 128)       0         \n",
      "                                                                 \n",
      " block3_conv1 (Conv2D)       (None, 56, 56, 256)       295168    \n",
      "                                                                 \n",
      " block3_conv2 (Conv2D)       (None, 56, 56, 256)       590080    \n",
      "                                                                 \n",
      " block3_conv3 (Conv2D)       (None, 56, 56, 256)       590080    \n",
      "                                                                 \n",
      " block3_pool (MaxPooling2D)  (None, 28, 28, 256)       0         \n",
      "                                                                 \n",
      " block4_conv1 (Conv2D)       (None, 28, 28, 512)       1180160   \n",
      "                                                                 \n",
      " block4_conv2 (Conv2D)       (None, 28, 28, 512)       2359808   \n",
      "                                                                 \n",
      " block4_conv3 (Conv2D)       (None, 28, 28, 512)       2359808   \n",
      "                                                                 \n",
      " block4_pool (MaxPooling2D)  (None, 14, 14, 512)       0         \n",
      "                                                                 \n",
      " block5_conv1 (Conv2D)       (None, 14, 14, 512)       2359808   \n",
      "                                                                 \n",
      " block5_conv2 (Conv2D)       (None, 14, 14, 512)       2359808   \n",
      "                                                                 \n",
      " block5_conv3 (Conv2D)       (None, 14, 14, 512)       2359808   \n",
      "                                                                 \n",
      " block5_pool (MaxPooling2D)  (None, 7, 7, 512)         0         \n",
      "                                                                 \n",
      " flatten_5 (Flatten)         (None, 25088)             0         \n",
      "                                                                 \n",
      " dense_4 (Dense)             (None, 2)                 50178     \n",
      "                                                                 \n",
      "=================================================================\n",
      "Total params: 14,764,866\n",
      "Trainable params: 50,178\n",
      "Non-trainable params: 14,714,688\n",
      "_________________________________________________________________\n"
     ]
    }
   ],
   "source": [
    "modelVgg.summary()"
   ]
  },
  {
   "cell_type": "code",
   "execution_count": 70,
   "id": "43cdf0ad",
   "metadata": {},
   "outputs": [],
   "source": [
    "modelVgg.compile(loss = 'binary_crossentropy' , optimizer = 'adam', metrics = ['accuracy'])"
   ]
  },
  {
   "cell_type": "code",
   "execution_count": 72,
   "id": "c17a6afc",
   "metadata": {},
   "outputs": [],
   "source": [
    "train_data = ImageDataGenerator(rescale = 1./255 ,\n",
    "                               shear_range = 0.2,\n",
    "                               zoom_range = 0.2,\n",
    "                               horizontal_flip = True)\n",
    "test_data = ImageDataGenerator(rescale = 1./255)"
   ]
  },
  {
   "cell_type": "code",
   "execution_count": 76,
   "id": "cc10d5b5",
   "metadata": {},
   "outputs": [
    {
     "name": "stdout",
     "output_type": "stream",
     "text": [
      "Found 1701 images belonging to 2 classes.\n",
      "Found 1311 images belonging to 2 classes.\n"
     ]
    }
   ],
   "source": [
    "training_set = train_data.flow_from_directory('C:/Users/Alo/Desktop/ProjectML2/BrainTumor/Training',\n",
    "                                             target_size = (224,224),\n",
    "                                             batch_size = 32,\n",
    "                                             class_mode = 'categorical')\n",
    "test_set = test_data.flow_from_directory('C:/Users/Alo/Desktop/ProjectML2/BrainTumor/Testing',\n",
    "                                             target_size = (224,224),\n",
    "                                             batch_size = 32,\n",
    "                                             class_mode = 'categorical')"
   ]
  },
  {
   "cell_type": "code",
   "execution_count": 78,
   "id": "37269e7f",
   "metadata": {},
   "outputs": [
    {
     "name": "stderr",
     "output_type": "stream",
     "text": [
      "C:\\Users\\Alo\\AppData\\Local\\Temp\\ipykernel_27824\\201561355.py:1: UserWarning: `Model.fit_generator` is deprecated and will be removed in a future version. Please use `Model.fit`, which supports generators.\n",
      "  mh = modelVgg.fit_generator(\n"
     ]
    },
    {
     "name": "stdout",
     "output_type": "stream",
     "text": [
      "Epoch 1/5\n",
      "54/54 [==============================] - 784s 14s/step - loss: 0.2804 - accuracy: 0.8807 - val_loss: 0.2650 - val_accuracy: 0.9069\n",
      "Epoch 2/5\n",
      "54/54 [==============================] - 757s 14s/step - loss: 0.1388 - accuracy: 0.9483 - val_loss: 0.1675 - val_accuracy: 0.9359\n",
      "Epoch 3/5\n",
      "54/54 [==============================] - 723s 13s/step - loss: 0.1040 - accuracy: 0.9641 - val_loss: 0.1278 - val_accuracy: 0.9542\n",
      "Epoch 4/5\n",
      "54/54 [==============================] - 715s 13s/step - loss: 0.0884 - accuracy: 0.9706 - val_loss: 0.1828 - val_accuracy: 0.9298\n",
      "Epoch 5/5\n",
      "54/54 [==============================] - 713s 13s/step - loss: 0.0677 - accuracy: 0.9782 - val_loss: 0.1305 - val_accuracy: 0.9481\n"
     ]
    }
   ],
   "source": [
    "mh = modelVgg.fit(\n",
    "    training_set,\n",
    "    validation_data = test_set,\n",
    "    epochs = 5,\n",
    "    steps_per_epoch = len(training_set),\n",
    "    validation_steps = len(test_set)\n",
    ")"
   ]
  },
  {
   "cell_type": "code",
   "execution_count": 79,
   "id": "12434716",
   "metadata": {},
   "outputs": [],
   "source": [
    "modelVgg.save('C:/Users/Alo/Desktop/ProjectML2/model_vgg.keras')"
   ]
  },
  {
   "cell_type": "code",
   "execution_count": 81,
   "id": "4e9efc0c",
   "metadata": {},
   "outputs": [
    {
     "name": "stdout",
     "output_type": "stream",
     "text": [
      "16/16 [==============================] - 111s 7s/step\n"
     ]
    }
   ],
   "source": [
    "y_pred_vgg = modelVgg.predict(x_test)"
   ]
  },
  {
   "cell_type": "code",
   "execution_count": 88,
   "id": "625a7761",
   "metadata": {},
   "outputs": [
    {
     "data": {
      "text/plain": [
       "array([0.00343449, 0.9965655 ], dtype=float32)"
      ]
     },
     "execution_count": 88,
     "metadata": {},
     "output_type": "execute_result"
    }
   ],
   "source": [
    "y_pred_vgg[0]"
   ]
  },
  {
   "cell_type": "code",
   "execution_count": 89,
   "id": "7220a5ea",
   "metadata": {},
   "outputs": [
    {
     "name": "stdout",
     "output_type": "stream",
     "text": [
      "tumor\n",
      "no tumor\n",
      "no tumor\n",
      "no tumor\n",
      "tumor\n",
      "tumor\n",
      "tumor\n",
      "no tumor\n",
      "tumor\n",
      "tumor\n",
      "no tumor\n",
      "no tumor\n",
      "no tumor\n",
      "no tumor\n",
      "tumor\n",
      "tumor\n",
      "tumor\n",
      "no tumor\n",
      "no tumor\n",
      "tumor\n",
      "tumor\n",
      "tumor\n",
      "tumor\n",
      "tumor\n",
      "tumor\n",
      "no tumor\n",
      "tumor\n",
      "tumor\n",
      "no tumor\n",
      "no tumor\n",
      "no tumor\n",
      "tumor\n",
      "tumor\n",
      "no tumor\n",
      "no tumor\n",
      "no tumor\n",
      "tumor\n",
      "tumor\n",
      "no tumor\n",
      "tumor\n",
      "no tumor\n",
      "no tumor\n",
      "tumor\n",
      "tumor\n",
      "tumor\n",
      "no tumor\n",
      "no tumor\n",
      "tumor\n",
      "tumor\n",
      "tumor\n",
      "tumor\n",
      "tumor\n",
      "no tumor\n",
      "tumor\n",
      "no tumor\n",
      "no tumor\n",
      "tumor\n",
      "tumor\n",
      "tumor\n",
      "no tumor\n",
      "tumor\n",
      "no tumor\n",
      "no tumor\n",
      "tumor\n",
      "tumor\n",
      "no tumor\n",
      "no tumor\n",
      "no tumor\n",
      "tumor\n",
      "no tumor\n",
      "no tumor\n",
      "no tumor\n",
      "no tumor\n",
      "tumor\n",
      "tumor\n",
      "tumor\n",
      "no tumor\n",
      "tumor\n",
      "tumor\n",
      "no tumor\n",
      "tumor\n",
      "tumor\n",
      "tumor\n",
      "no tumor\n",
      "tumor\n",
      "tumor\n",
      "tumor\n",
      "no tumor\n",
      "tumor\n",
      "no tumor\n",
      "no tumor\n",
      "tumor\n",
      "no tumor\n",
      "no tumor\n",
      "no tumor\n",
      "no tumor\n",
      "no tumor\n",
      "tumor\n",
      "no tumor\n",
      "tumor\n",
      "no tumor\n",
      "no tumor\n",
      "tumor\n",
      "tumor\n",
      "no tumor\n",
      "tumor\n",
      "tumor\n",
      "no tumor\n",
      "no tumor\n",
      "no tumor\n",
      "tumor\n",
      "tumor\n",
      "tumor\n",
      "tumor\n",
      "no tumor\n",
      "tumor\n",
      "no tumor\n",
      "no tumor\n",
      "no tumor\n",
      "no tumor\n",
      "no tumor\n",
      "no tumor\n",
      "tumor\n",
      "tumor\n",
      "tumor\n",
      "tumor\n",
      "no tumor\n",
      "tumor\n",
      "tumor\n",
      "no tumor\n",
      "no tumor\n",
      "tumor\n",
      "tumor\n",
      "no tumor\n",
      "no tumor\n",
      "tumor\n",
      "tumor\n",
      "no tumor\n",
      "no tumor\n",
      "tumor\n",
      "no tumor\n",
      "no tumor\n",
      "tumor\n",
      "no tumor\n",
      "tumor\n",
      "no tumor\n",
      "no tumor\n",
      "no tumor\n",
      "tumor\n",
      "tumor\n",
      "tumor\n",
      "tumor\n",
      "no tumor\n",
      "no tumor\n",
      "no tumor\n",
      "no tumor\n",
      "tumor\n",
      "no tumor\n",
      "no tumor\n",
      "no tumor\n",
      "no tumor\n",
      "no tumor\n",
      "no tumor\n",
      "no tumor\n",
      "tumor\n",
      "no tumor\n",
      "tumor\n",
      "no tumor\n",
      "no tumor\n",
      "no tumor\n",
      "no tumor\n",
      "tumor\n",
      "tumor\n",
      "tumor\n",
      "no tumor\n",
      "no tumor\n",
      "no tumor\n",
      "no tumor\n",
      "no tumor\n",
      "no tumor\n",
      "tumor\n",
      "tumor\n",
      "tumor\n",
      "tumor\n",
      "tumor\n",
      "tumor\n",
      "tumor\n",
      "tumor\n",
      "tumor\n",
      "no tumor\n",
      "no tumor\n",
      "no tumor\n",
      "no tumor\n",
      "tumor\n",
      "no tumor\n",
      "tumor\n",
      "tumor\n",
      "no tumor\n",
      "no tumor\n",
      "tumor\n",
      "tumor\n",
      "no tumor\n",
      "no tumor\n",
      "no tumor\n",
      "no tumor\n",
      "no tumor\n",
      "tumor\n",
      "tumor\n",
      "no tumor\n",
      "no tumor\n",
      "no tumor\n",
      "no tumor\n",
      "tumor\n",
      "tumor\n",
      "no tumor\n",
      "tumor\n",
      "tumor\n",
      "no tumor\n",
      "no tumor\n",
      "tumor\n",
      "tumor\n",
      "no tumor\n",
      "no tumor\n",
      "no tumor\n",
      "tumor\n",
      "tumor\n",
      "tumor\n",
      "no tumor\n",
      "no tumor\n",
      "no tumor\n",
      "tumor\n",
      "no tumor\n",
      "tumor\n",
      "no tumor\n",
      "tumor\n",
      "no tumor\n",
      "tumor\n",
      "tumor\n",
      "no tumor\n",
      "tumor\n",
      "tumor\n",
      "no tumor\n",
      "tumor\n",
      "no tumor\n",
      "tumor\n",
      "no tumor\n",
      "tumor\n",
      "no tumor\n",
      "tumor\n",
      "no tumor\n",
      "tumor\n",
      "no tumor\n",
      "no tumor\n",
      "no tumor\n",
      "no tumor\n",
      "tumor\n",
      "no tumor\n",
      "no tumor\n",
      "no tumor\n",
      "tumor\n",
      "no tumor\n",
      "no tumor\n",
      "tumor\n",
      "no tumor\n",
      "tumor\n",
      "tumor\n",
      "no tumor\n",
      "no tumor\n",
      "tumor\n",
      "no tumor\n",
      "tumor\n",
      "tumor\n",
      "no tumor\n",
      "tumor\n",
      "no tumor\n",
      "tumor\n",
      "no tumor\n",
      "no tumor\n",
      "tumor\n",
      "no tumor\n",
      "no tumor\n",
      "no tumor\n",
      "no tumor\n",
      "no tumor\n",
      "tumor\n",
      "tumor\n",
      "tumor\n",
      "no tumor\n",
      "no tumor\n",
      "tumor\n",
      "no tumor\n",
      "tumor\n",
      "no tumor\n",
      "tumor\n",
      "tumor\n",
      "no tumor\n",
      "no tumor\n",
      "tumor\n",
      "tumor\n",
      "tumor\n",
      "tumor\n",
      "no tumor\n",
      "tumor\n",
      "tumor\n",
      "no tumor\n",
      "no tumor\n",
      "tumor\n",
      "tumor\n",
      "tumor\n",
      "tumor\n",
      "tumor\n",
      "no tumor\n",
      "tumor\n",
      "no tumor\n",
      "tumor\n",
      "no tumor\n",
      "tumor\n",
      "no tumor\n",
      "tumor\n",
      "no tumor\n",
      "no tumor\n",
      "no tumor\n",
      "tumor\n",
      "tumor\n",
      "tumor\n",
      "no tumor\n",
      "no tumor\n",
      "no tumor\n",
      "no tumor\n",
      "tumor\n",
      "no tumor\n",
      "no tumor\n",
      "no tumor\n",
      "no tumor\n",
      "tumor\n",
      "tumor\n",
      "no tumor\n",
      "tumor\n",
      "tumor\n",
      "tumor\n",
      "no tumor\n",
      "no tumor\n",
      "tumor\n",
      "tumor\n",
      "tumor\n",
      "tumor\n",
      "no tumor\n",
      "tumor\n",
      "no tumor\n",
      "no tumor\n",
      "no tumor\n",
      "no tumor\n",
      "no tumor\n",
      "no tumor\n",
      "no tumor\n",
      "no tumor\n",
      "no tumor\n",
      "tumor\n",
      "tumor\n",
      "no tumor\n",
      "tumor\n",
      "tumor\n",
      "tumor\n",
      "tumor\n",
      "tumor\n",
      "tumor\n",
      "no tumor\n",
      "no tumor\n",
      "no tumor\n",
      "no tumor\n",
      "no tumor\n",
      "no tumor\n",
      "no tumor\n",
      "tumor\n",
      "no tumor\n",
      "no tumor\n",
      "tumor\n",
      "no tumor\n",
      "tumor\n",
      "tumor\n",
      "tumor\n",
      "no tumor\n",
      "tumor\n",
      "tumor\n",
      "tumor\n",
      "no tumor\n",
      "no tumor\n",
      "tumor\n",
      "tumor\n",
      "no tumor\n",
      "tumor\n",
      "no tumor\n",
      "tumor\n",
      "no tumor\n",
      "no tumor\n",
      "no tumor\n",
      "no tumor\n",
      "tumor\n",
      "tumor\n",
      "tumor\n",
      "tumor\n",
      "tumor\n",
      "no tumor\n",
      "tumor\n",
      "tumor\n",
      "no tumor\n",
      "no tumor\n",
      "no tumor\n",
      "no tumor\n",
      "tumor\n",
      "no tumor\n",
      "tumor\n",
      "tumor\n",
      "no tumor\n",
      "tumor\n",
      "tumor\n",
      "tumor\n",
      "no tumor\n",
      "no tumor\n",
      "no tumor\n",
      "tumor\n",
      "tumor\n",
      "no tumor\n",
      "no tumor\n",
      "tumor\n",
      "no tumor\n",
      "no tumor\n",
      "no tumor\n",
      "tumor\n",
      "tumor\n",
      "tumor\n",
      "tumor\n",
      "tumor\n",
      "tumor\n",
      "tumor\n",
      "tumor\n",
      "tumor\n",
      "no tumor\n",
      "tumor\n",
      "tumor\n",
      "tumor\n",
      "no tumor\n",
      "tumor\n",
      "tumor\n",
      "tumor\n",
      "no tumor\n",
      "no tumor\n",
      "no tumor\n",
      "no tumor\n",
      "tumor\n",
      "tumor\n",
      "no tumor\n",
      "tumor\n",
      "no tumor\n",
      "tumor\n",
      "no tumor\n",
      "tumor\n",
      "tumor\n",
      "no tumor\n",
      "no tumor\n",
      "tumor\n",
      "tumor\n",
      "no tumor\n",
      "no tumor\n",
      "no tumor\n",
      "no tumor\n",
      "no tumor\n",
      "no tumor\n",
      "tumor\n",
      "no tumor\n",
      "no tumor\n",
      "tumor\n",
      "tumor\n",
      "tumor\n",
      "no tumor\n",
      "no tumor\n",
      "no tumor\n",
      "no tumor\n",
      "tumor\n",
      "no tumor\n",
      "tumor\n",
      "tumor\n",
      "no tumor\n",
      "no tumor\n",
      "no tumor\n",
      "no tumor\n",
      "tumor\n",
      "tumor\n",
      "no tumor\n",
      "tumor\n",
      "no tumor\n",
      "no tumor\n",
      "no tumor\n",
      "no tumor\n",
      "tumor\n",
      "tumor\n",
      "no tumor\n",
      "tumor\n",
      "no tumor\n",
      "tumor\n",
      "no tumor\n",
      "tumor\n",
      "tumor\n",
      "tumor\n",
      "tumor\n",
      "tumor\n",
      "no tumor\n",
      "tumor\n",
      "tumor\n",
      "tumor\n",
      "no tumor\n"
     ]
    }
   ],
   "source": [
    "for i in range(0,len(y_pred_vgg)):\n",
    "    if(y_pred_vgg[i][0]>y_pred_vgg[i][1]):\n",
    "        print(\"no tumor\")\n",
    "    else:\n",
    "        print(\"tumor\")"
   ]
  },
  {
   "cell_type": "code",
   "execution_count": 95,
   "id": "c70c689f",
   "metadata": {},
   "outputs": [
    {
     "data": {
      "text/plain": [
       "[0.906941294670105,\n",
       " 0.9359267950057983,\n",
       " 0.9542334079742432,\n",
       " 0.9298245906829834,\n",
       " 0.9481312036514282]"
      ]
     },
     "execution_count": 95,
     "metadata": {},
     "output_type": "execute_result"
    }
   ],
   "source": [
    "mh.history['val_accuracy']"
   ]
  },
  {
   "cell_type": "code",
   "execution_count": null,
   "id": "e3012fda",
   "metadata": {},
   "outputs": [],
   "source": []
  }
 ],
 "metadata": {
  "kernelspec": {
   "display_name": "Python 3 (ipykernel)",
   "language": "python",
   "name": "python3"
  },
  "language_info": {
   "codemirror_mode": {
    "name": "ipython",
    "version": 3
   },
   "file_extension": ".py",
   "mimetype": "text/x-python",
   "name": "python",
   "nbconvert_exporter": "python",
   "pygments_lexer": "ipython3",
   "version": "3.9.13"
  }
 },
 "nbformat": 4,
 "nbformat_minor": 5
}
